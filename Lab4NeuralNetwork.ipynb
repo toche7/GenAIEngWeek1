{
  "cells": [
    {
      "cell_type": "markdown",
      "metadata": {
        "id": "bfAhDQMaSFy0"
      },
      "source": [
        "## Neural Network"
      ]
    },
    {
      "cell_type": "code",
      "execution_count": null,
      "metadata": {
        "id": "15bc5CWbRn4v"
      },
      "outputs": [],
      "source": [
        "import pandas as pd\n",
        "import numpy as np"
      ]
    },
    {
      "cell_type": "code",
      "execution_count": null,
      "metadata": {
        "colab": {
          "base_uri": "https://localhost:8080/",
          "height": 225
        },
        "id": "cA1mrR5mSLV2",
        "outputId": "bf51d290-8055-4a86-f3a0-1b549752e7f3"
      },
      "outputs": [],
      "source": [
        "df = pd.read_csv('https://raw.githubusercontent.com/toche7/DataSets/main/admit.csv')\n",
        "df.head()"
      ]
    },
    {
      "cell_type": "code",
      "execution_count": null,
      "metadata": {
        "id": "ojcIgdFuSacn"
      },
      "outputs": [],
      "source": [
        "import seaborn as sns"
      ]
    },
    {
      "cell_type": "code",
      "execution_count": null,
      "metadata": {
        "colab": {
          "base_uri": "https://localhost:8080/",
          "height": 550
        },
        "id": "BMKKLG3rTPNI",
        "outputId": "2dfe0f1a-03a7-434e-8a4d-fee71ed088b5"
      },
      "outputs": [],
      "source": [
        "sns.pairplot(df, hue='Label')"
      ]
    },
    {
      "cell_type": "code",
      "execution_count": null,
      "metadata": {
        "colab": {
          "base_uri": "https://localhost:8080/",
          "height": 225
        },
        "id": "pPocHrI8Tzti",
        "outputId": "3c90d168-32a9-491a-8cbe-1d4e00f3dbcd"
      },
      "outputs": [],
      "source": [
        "X = df[['SubjectA','SubjectB']]\n",
        "X.head()"
      ]
    },
    {
      "cell_type": "code",
      "execution_count": null,
      "metadata": {
        "colab": {
          "base_uri": "https://localhost:8080/"
        },
        "id": "Zy1Kl20oVLW3",
        "outputId": "00a45300-0585-4db2-959f-54b1b34b39db"
      },
      "outputs": [],
      "source": [
        "y = df['Label']\n",
        "y.head()"
      ]
    },
    {
      "cell_type": "code",
      "execution_count": null,
      "metadata": {
        "id": "Vbr-qkqiVfMO"
      },
      "outputs": [],
      "source": [
        "from sklearn.neural_network import MLPClassifier"
      ]
    },
    {
      "cell_type": "code",
      "execution_count": null,
      "metadata": {
        "id": "ab_G49dFWBJE"
      },
      "outputs": [],
      "source": [
        "nn = MLPClassifier(solver='lbfgs', alpha= 0.00001, hidden_layer_sizes= (10,), random_state= 10, max_iter=500)"
      ]
    },
    {
      "cell_type": "code",
      "execution_count": null,
      "metadata": {
        "colab": {
          "base_uri": "https://localhost:8080/",
          "height": 111
        },
        "id": "L4BBolrmXjWK",
        "outputId": "2e10f880-daec-48e7-c03f-f9eee70c34a8"
      },
      "outputs": [],
      "source": [
        "nn.fit(X,y)"
      ]
    },
    {
      "cell_type": "code",
      "execution_count": null,
      "metadata": {
        "colab": {
          "base_uri": "https://localhost:8080/"
        },
        "id": "EMFIPIdEXub1",
        "outputId": "5959a013-e885-451c-cadf-e344e7ee92b5"
      },
      "outputs": [],
      "source": [
        "nn.predict(X)"
      ]
    },
    {
      "cell_type": "code",
      "execution_count": null,
      "metadata": {
        "colab": {
          "base_uri": "https://localhost:8080/"
        },
        "id": "5lZyMIHEX3Nh",
        "outputId": "ab507ce9-9265-4b2b-9024-fd3301bfe26e"
      },
      "outputs": [],
      "source": [
        "nn.score(X,y)"
      ]
    },
    {
      "cell_type": "code",
      "execution_count": null,
      "metadata": {
        "colab": {
          "base_uri": "https://localhost:8080/"
        },
        "id": "SUlEKlwnX-3U",
        "outputId": "ae7b2bbc-3a15-4ecd-f507-be13badf4922"
      },
      "outputs": [],
      "source": [
        "nn.coefs_"
      ]
    },
    {
      "cell_type": "code",
      "execution_count": null,
      "metadata": {
        "colab": {
          "base_uri": "https://localhost:8080/"
        },
        "id": "DcLiGioSYe9j",
        "outputId": "4ecd8f37-0364-4898-8249-2b2515b0d012"
      },
      "outputs": [],
      "source": [
        "nn.intercepts_"
      ]
    },
    {
      "cell_type": "markdown",
      "metadata": {
        "id": "sPBxr4zxjxpB"
      },
      "source": [
        "## Confusion Matrix"
      ]
    },
    {
      "cell_type": "code",
      "execution_count": null,
      "metadata": {
        "id": "BzY-miOZcFO9"
      },
      "outputs": [],
      "source": [
        "from sklearn.metrics import confusion_matrix, ConfusionMatrixDisplay"
      ]
    },
    {
      "cell_type": "code",
      "execution_count": null,
      "metadata": {
        "colab": {
          "base_uri": "https://localhost:8080/"
        },
        "id": "wuqi6PLUiuzQ",
        "outputId": "75850ac6-d9fe-4e08-8198-4483c42f7d5d"
      },
      "outputs": [],
      "source": [
        "pred = nn.predict(X)\n",
        "pred"
      ]
    },
    {
      "cell_type": "code",
      "execution_count": null,
      "metadata": {
        "colab": {
          "base_uri": "https://localhost:8080/"
        },
        "id": "R04cz2tai1Tp",
        "outputId": "c458c359-3e03-4da1-92bc-cb1ffd9d02e0"
      },
      "outputs": [],
      "source": [
        "cm = confusion_matrix(y,pred, labels = nn.classes_)\n",
        "cm"
      ]
    },
    {
      "cell_type": "code",
      "execution_count": null,
      "metadata": {
        "id": "KS4zNFJajH2H"
      },
      "outputs": [],
      "source": [
        "disp = ConfusionMatrixDisplay(confusion_matrix=cm, display_labels= nn.classes_)"
      ]
    },
    {
      "cell_type": "code",
      "execution_count": null,
      "metadata": {
        "colab": {
          "base_uri": "https://localhost:8080/",
          "height": 486
        },
        "id": "EjhtvV_0jZWC",
        "outputId": "ab0b8c93-7442-4fad-80fc-c0979d42e9e6"
      },
      "outputs": [],
      "source": [
        "disp.plot()"
      ]
    },
    {
      "cell_type": "code",
      "execution_count": null,
      "metadata": {
        "id": "zc_rFyWOjcLN"
      },
      "outputs": [],
      "source": []
    },
    {
      "cell_type": "markdown",
      "metadata": {
        "id": "yclyLFNqj7Tq"
      },
      "source": [
        "## Precision, Recall and F-Score"
      ]
    },
    {
      "cell_type": "code",
      "execution_count": null,
      "metadata": {
        "id": "UcCstGrbj_gL"
      },
      "outputs": [],
      "source": [
        "from sklearn.metrics import precision_recall_fscore_support as score"
      ]
    },
    {
      "cell_type": "code",
      "execution_count": null,
      "metadata": {
        "colab": {
          "base_uri": "https://localhost:8080/"
        },
        "id": "VI3jXiukkT2r",
        "outputId": "fb1e1faf-71dc-435b-f549-2d8d7d65e887"
      },
      "outputs": [],
      "source": [
        "score(y,pred)"
      ]
    },
    {
      "cell_type": "code",
      "execution_count": null,
      "metadata": {
        "colab": {
          "base_uri": "https://localhost:8080/"
        },
        "id": "3Be2tq7nkaa9",
        "outputId": "bb85e378-6324-4243-d15b-10718a37338b"
      },
      "outputs": [],
      "source": [
        "score(y,pred, average='micro')"
      ]
    },
    {
      "cell_type": "code",
      "execution_count": null,
      "metadata": {
        "colab": {
          "base_uri": "https://localhost:8080/"
        },
        "id": "v47498XVk3f6",
        "outputId": "343ee9cd-55f8-4228-e995-25fc02b1999e"
      },
      "outputs": [],
      "source": [
        "# precision micro average\n",
        "(58 + 37)/100"
      ]
    },
    {
      "cell_type": "code",
      "execution_count": null,
      "metadata": {
        "colab": {
          "base_uri": "https://localhost:8080/"
        },
        "id": "iAyddy24lHYY",
        "outputId": "4eedeea0-b329-483a-a63c-3a62a52f0a83"
      },
      "outputs": [],
      "source": [
        "score(y,pred, average='macro')"
      ]
    },
    {
      "cell_type": "code",
      "execution_count": null,
      "metadata": {
        "colab": {
          "base_uri": "https://localhost:8080/"
        },
        "id": "hG0pwV4hlQrm",
        "outputId": "a44b43dd-0004-464b-9bc6-d2bb59ff4146"
      },
      "outputs": [],
      "source": [
        "# precision macro average\n",
        "(58/61 + 37/39)/2"
      ]
    },
    {
      "cell_type": "code",
      "execution_count": null,
      "metadata": {
        "id": "l1A_IxAkl6SF"
      },
      "outputs": [],
      "source": []
    }
  ],
  "metadata": {
    "colab": {
      "authorship_tag": "ABX9TyPsBd4XDL5s3umzCrP0chJ2",
      "include_colab_link": true,
      "provenance": []
    },
    "kernelspec": {
      "display_name": "Python 3",
      "name": "python3"
    },
    "language_info": {
      "codemirror_mode": {
        "name": "ipython",
        "version": 3
      },
      "file_extension": ".py",
      "mimetype": "text/x-python",
      "name": "python",
      "nbconvert_exporter": "python",
      "pygments_lexer": "ipython3",
      "version": "3.11.8"
    }
  },
  "nbformat": 4,
  "nbformat_minor": 0
}

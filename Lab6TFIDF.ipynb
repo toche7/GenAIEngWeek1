{
 "cells": [
  {
   "cell_type": "markdown",
   "metadata": {},
   "source": [
    "# Lab 6: TFIDF"
   ]
  },
  {
   "cell_type": "code",
   "execution_count": null,
   "metadata": {},
   "outputs": [],
   "source": [
    "from sklearn.feature_extraction.text import TfidfVectorizer\n",
    "\n",
    "# Sample set of documents\n",
    "docs = [\n",
    "    \"the sky is blue\",\n",
    "    \"sky is blue and sky is beautiful\",\n",
    "    \"the beautiful sky is so blue\",\n",
    "    \"I love blue cheese\"\n",
    "]"
   ]
  },
  {
   "cell_type": "code",
   "execution_count": null,
   "metadata": {},
   "outputs": [],
   "source": [
    "# Create the vectorizer and compute the TF-IDF matrix\n",
    "tfidfvectorizer = TfidfVectorizer()\n",
    "\n",
    "# Fit the model and transform the documents\n",
    "tfidf_wm = tfidfvectorizer.fit_transform(docs)"
   ]
  },
  {
   "cell_type": "code",
   "execution_count": null,
   "metadata": {},
   "outputs": [],
   "source": [
    "print(tfidf_wm)"
   ]
  },
  {
   "cell_type": "code",
   "execution_count": null,
   "metadata": {},
   "outputs": [],
   "source": [
    "# Retrieve the terms found in the corpus\n",
    "tfidf_tokens = tfidfvectorizer.get_feature_names_out()\n",
    "tfidf_tokens"
   ]
  },
  {
   "cell_type": "code",
   "execution_count": null,
   "metadata": {},
   "outputs": [],
   "source": [
    "# Create a DataFrame for easy viewing\n",
    "import pandas as pd\n",
    "df_tfidfvect = pd.DataFrame(data = tfidf_wm.toarray(),index = ['Doc1','Doc2', 'Doc3', 'Doc4'],columns = tfidf_tokens)\n",
    "\n",
    "# View the TF-IDF DataFrame\n",
    "print(df_tfidfvect)"
   ]
  },
  {
   "cell_type": "markdown",
   "metadata": {},
   "source": [
    "This code snippet performs the following steps:\n",
    "It initializes a list of strings where each string represents a document.\n",
    "It creates a TfidfVectorizer object to convert the text documents to a matrix of TF-IDF features.\n",
    "It fits to the data and then transforms our documents into the TF-IDF matrix.\n",
    "It retrieves the tokens (words) that have been found in all the documents.\n",
    "It creates a pandas DataFrame to display the TF-IDF scores in a tabular format, with documents as rows and words as columns.\n",
    "The resulting DataFrame df_tfidfvect contains the TF-IDF scores for each word in each document. High scores indicate words that are more relevant to the document, while lower scores indicate words that are less relevant. Words that appear across many documents will have lower scores because of the IDF component, which penalizes common words."
   ]
  }
 ],
 "metadata": {
  "kernelspec": {
   "display_name": ".venv",
   "language": "python",
   "name": "python3"
  },
  "language_info": {
   "codemirror_mode": {
    "name": "ipython",
    "version": 3
   },
   "file_extension": ".py",
   "mimetype": "text/x-python",
   "name": "python",
   "nbconvert_exporter": "python",
   "pygments_lexer": "ipython3",
   "version": "3.10.13"
  }
 },
 "nbformat": 4,
 "nbformat_minor": 2
}
